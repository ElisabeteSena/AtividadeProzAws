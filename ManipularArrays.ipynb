{
  "nbformat": 4,
  "nbformat_minor": 0,
  "metadata": {
    "colab": {
      "provenance": [],
      "authorship_tag": "ABX9TyOP36dztpnKKBFczPDWFbiA",
      "include_colab_link": true
    },
    "kernelspec": {
      "name": "python3",
      "display_name": "Python 3"
    },
    "language_info": {
      "name": "python"
    }
  },
  "cells": [
    {
      "cell_type": "markdown",
      "metadata": {
        "id": "view-in-github",
        "colab_type": "text"
      },
      "source": [
        "<a href=\"https://colab.research.google.com/github/ElisabeteSena/AtividadeProzAws/blob/main/ManipularArrays.ipynb\" target=\"_parent\"><img src=\"https://colab.research.google.com/assets/colab-badge.svg\" alt=\"Open In Colab\"/></a>"
      ]
    },
    {
      "cell_type": "markdown",
      "source": [
        "A loja de cosméticos ficou muito feliz com seu trabalho e chamaram você novamente! Dessa vez, eles precisam que você atualize o array de produtos. Agora, eles estão vendendo rímel ao invés de batons, e cremes hidratantes no lugar de loções. Além disso, ficaram sem delineadores, então precisam que você remova ele da lista de produtos. Imprima a nova lista no terminal para verificar que as alterações foram realizadas corretamente.\n",
        "\n",
        "lista_produtos = ['máscaras faciais', 'batons', 'esmaltes', 'perfumes', 'loções', 'xampus', 'sabonetes', 'delineadores']\n",
        "\n",
        "Como desafio, adicione dois novos produtos da sua escolha à lista."
      ],
      "metadata": {
        "id": "MU2FhP3yYAst"
      }
    },
    {
      "cell_type": "markdown",
      "source": [],
      "metadata": {
        "id": "D67jAHeGwWZP"
      }
    },
    {
      "cell_type": "code",
      "execution_count": 42,
      "metadata": {
        "colab": {
          "base_uri": "https://localhost:8080/"
        },
        "id": "x-OXMM2gX9zj",
        "outputId": "4aa06bc1-f740-46b2-d268-757c97696621"
      },
      "outputs": [
        {
          "output_type": "stream",
          "name": "stdout",
          "text": [
            "máscaras faciais\n",
            "rimel\n",
            "esmaltes\n",
            "perfumes\n",
            "hidratantes\n",
            "xampus\n",
            "sabonetes\n",
            "Protetor solar, Lencos papel\n",
            "lenços de papel\n"
          ]
        }
      ],
      "source": [
        "# trocar baton por rimel\n",
        "# trocar loçoes por creme hidratantes\n",
        "# retirar delineadores\n",
        "#add 2 novos produtos\n",
        "\n",
        "lista_produtos = ['máscaras faciais', 'batons', 'esmaltes', 'perfumes', 'loções', 'xampus', 'sabonetes', 'delineadores']\n",
        "lista_produtos[1], lista_produtos[4] = 'rimel', 'hidratantes'\n",
        "lista_produtos.pop()\n",
        "lista_produtos.append('Protetor solar')\n",
        "lista_produtos.append('lenços de papel')\n",
        "for i in range(len(lista_produtos)):\n",
        " print(lista_produtos[i])\n",
        "\n",
        "\n"
      ]
    }
  ]
}